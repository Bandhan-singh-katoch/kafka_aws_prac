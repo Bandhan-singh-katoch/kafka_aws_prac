{
 "cells": [
  {
   "cell_type": "code",
   "execution_count": 1,
   "id": "1dcdd178-4f8a-4684-a19f-af7774096f3a",
   "metadata": {},
   "outputs": [
    
   ],
   "source": [
    "pip install kafka-python"
   ]
  },
  {
   "cell_type": "code",
   "execution_count": 2,
   "id": "574ca8ee-df98-4a25-934e-2f410158d03b",
   "metadata": {
    "collapsed": true,
    "jupyter": {
     "outputs_hidden": true
    },
    "scrolled": true
   },
   "outputs": [
    
   ],
   "source": [
    "pip install s3fs "
   ]
  },
  {
   "cell_type": "code",
   "execution_count": 3,
   "id": "1db83f46-436e-4ba6-a8b2-4217cf5b69a0",
   "metadata": {},
   "outputs": [],
   "source": [
    "import json\n",
    "from kafka import KafkaConsumer\n",
    "from time import sleep\n",
    "from json import dumps, loads\n",
    "from s3fs import S3FileSystem"
   ]
  },
  {
   "cell_type": "code",
   "execution_count": 4,
   "id": "caa54282-5def-45b3-9285-908a8f1f3304",
   "metadata": {},
   "outputs": [],
   "source": [
    "consumer = KafkaConsumer(\n",
    "    'second_topic',\n",
    "    bootstrap_servers=['localhost:9092'],\n",
    "    value_deserializer= lambda x: loads(x.decode('utf-8'))\n",
    ")"
   ]
  },
  {
   "cell_type": "code",
   "execution_count": 5,
   "id": "0e46868c-7fab-4fcb-bea2-3e60d939a4c1",
   "metadata": {
    "scrolled": true
   },
   "outputs": [],
   "source": [
    "s3 = S3FileSystem()"
   ]
  },
  {
   "cell_type": "code",
   "execution_count": 6,
   "id": "4f9804a3-f3a8-40a6-a238-ef7206245e8b",
   "metadata": {
    "collapsed": true,
    "jupyter": {
     "outputs_hidden": true
    }
   },
   "outputs": [
    
   ],
   "source": [
    "for count, i in enumerate(consumer):\n",
    "    with s3.open(\"s3://kafka-index-file/stock_market_{}.json\".format(count), 'w') as file:\n",
    "        json.dump(i.value, file)    "
   ]
  }
 ],
 "metadata": {
  "kernelspec": {
   "display_name": "Python 3 (ipykernel)",
   "language": "python",
   "name": "python3"
  },
  "language_info": {
   "codemirror_mode": {
    "name": "ipython",
    "version": 3
   },
   "file_extension": ".py",
   "mimetype": "text/x-python",
   "name": "python",
   "nbconvert_exporter": "python",
   "pygments_lexer": "ipython3",
   "version": "3.10.12"
  }
 },
 "nbformat": 4,
 "nbformat_minor": 5
}
