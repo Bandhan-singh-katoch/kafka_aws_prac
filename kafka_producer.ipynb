{
    "cells": [
     {
      "cell_type": "code",
      "execution_count": 1,
      "id": "1bc5b989-6f13-4bfb-925e-7e653a147f0d",
      "metadata": {
       "collapsed": true,
       "jupyter": {
        "outputs_hidden": true
       }
      },
      "outputs": [
      ],
      "source": [
       "pip install kafka-python"
      ]
     },
     {
      "cell_type": "code",
      "execution_count": 2,
      "id": "fcd0c29b-d4af-40e3-acbb-14ab528c5700",
      "metadata": {
       "collapsed": true,
       "jupyter": {
        "outputs_hidden": true
       }
      },
      "outputs": [
      ],
      "source": [
       "pip install pandas"
      ]
     },
     {
      "cell_type": "code",
      "execution_count": 3,
      "id": "0f664e73-7b38-43ce-8c58-ca1a8d4d67f3",
      "metadata": {},
      "outputs": [],
      "source": [
       "import pandas as pd\n",
       "import json\n",
       "from kafka import KafkaProducer\n",
       "from time import sleep"
      ]
     },
     {
      "cell_type": "code",
      "execution_count": 4,
      "id": "42639109-8ed8-4884-9817-b19aad55762f",
      "metadata": {},
      "outputs": [],
      "source": [
       "producer = KafkaProducer(bootstrap_servers=['localhost:9092'], #change ip here\n",
       "                         value_serializer=lambda x: \n",
       "                         json.dumps(x).encode('utf-8'))"
      ]
     },
     {
      "cell_type": "code",
      "execution_count": 5,
      "id": "67007fa5-beff-4d87-a75c-53cc495a26b0",
      "metadata": {},
      "outputs": [
      ],
      "source": [
       "producer.send('second_topic', value={'namamdfmdsf':'23232323'})"
      ]
     },
     {
      "cell_type": "code",
      "execution_count": 6,
      "id": "3c327f66-be21-452b-a5f9-3d06a4019e7e",
      "metadata": {},
      "outputs": [],
      "source": [
       "df = pd.read_csv('indexProcessed.csv')"
      ]
     },
     {
      "cell_type": "code",
      "execution_count": 7,
      "id": "99527ea0-6e22-4bc6-b5cc-378dcd0ee5e2",
      "metadata": {
       "collapsed": true,
       "jupyter": {
        "outputs_hidden": true
       },
       "scrolled": true
      },
      "outputs": [
      ],
      "source": [
       "df.head()"
      ]
     },
     {
      "cell_type": "code",
      "execution_count": 8,
      "id": "11327d9d-f24b-4a07-87b9-54855cdd950c",
      "metadata": {
       "collapsed": true,
       "jupyter": {
        "outputs_hidden": true
       },
       "scrolled": true
      },
      "outputs": [
      ],
      "source": [
       "while True:\n",
       "    df_dict = df.sample(1).to_dict(orient='records')[0]\n",
       "    producer.send('second_topic', value=df_dict)\n",
       "    sleep(1)\n",
       "    "
      ]
     },
     {
      "cell_type": "code",
      "execution_count": null,
      "id": "b7487fdd-8d0e-4af3-9716-138fe7028a87",
      "metadata": {},
      "outputs": [],
      "source": [
       "producer.flush()"
      ]
     }
    ],
    "metadata": {
     "kernelspec": {
      "display_name": "Python 3 (ipykernel)",
      "language": "python",
      "name": "python3"
     },
     "language_info": {
      "codemirror_mode": {
       "name": "ipython",
       "version": 3
      },
      "file_extension": ".py",
      "mimetype": "text/x-python",
      "name": "python",
      "nbconvert_exporter": "python",
      "pygments_lexer": "ipython3",
      "version": "3.10.12"
     }
    },
    "nbformat": 4,
    "nbformat_minor": 5
   }
   
